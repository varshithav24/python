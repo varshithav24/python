{
 "cells": [
  {
   "cell_type": "code",
   "execution_count": 15,
   "id": "97aaecbf",
   "metadata": {},
   "outputs": [
    {
     "name": "stdout",
     "output_type": "stream",
     "text": [
      "anime\n",
      "['_', '_', '_', '_', '_']\n",
      "guess a letter:n\n",
      "['_', 'n', '_', '_', '_']\n",
      "guess a letter:e\n",
      "['_', 'n', '_', '_', 'e']\n",
      "guess a letter:k\n",
      "['_', 'n', '_', '_', 'e']\n",
      "guess a letter:m\n",
      "['_', 'n', '_', 'm', 'e']\n",
      "guess a letter:i\n",
      "['_', 'n', 'i', 'm', 'e']\n",
      "guess a letter:p\n",
      "['_', 'n', 'i', 'm', 'e']\n",
      "guess a letter:l\n",
      "['_', 'n', 'i', 'm', 'e']\n",
      "guess a letter:o\n",
      "['_', 'n', 'i', 'm', 'e']\n",
      "guess a letter:r\n",
      "['_', 'n', 'i', 'm', 'e']\n",
      "guess a letter:q\n",
      "['_', 'n', 'i', 'm', 'e']\n",
      "you lose !!\n"
     ]
    }
   ],
   "source": [
    "import random\n",
    "word_list =[\"apple\",\"beautiful\",\"anime\"]\n",
    "lives =6\n",
    "chosen_word=random.choice(word_list)\n",
    "print(chosen_word)\n",
    "display =[]\n",
    "for letter in chosen_word:\n",
    "    display.append('_')\n",
    "print (display)\n",
    "game_over = False\n",
    "while not game_over:\n",
    "    \n",
    "    guessed_letter=input(\"guess a letter:\").lower()\n",
    "    for position in range(len(chosen_word)):\n",
    "        letter = chosen_word[position]\n",
    "        if letter==guessed_letter:\n",
    "            display[position] = guessed_letter\n",
    "    print(display)\n",
    "    if guessed_letter not in chosen_word:\n",
    "        lives -=1\n",
    "        if lives == 0:\n",
    "            game_over = True\n",
    "            print(\"you lose !!\")\n",
    "         \n",
    "    if '_' not in display :\n",
    "        game_over = True\n",
    "        print(\"you win!!\")\n",
    "        \n",
    "           "
   ]
  },
  {
   "cell_type": "code",
   "execution_count": null,
   "id": "9ad3a671",
   "metadata": {},
   "outputs": [],
   "source": []
  },
  {
   "cell_type": "code",
   "execution_count": null,
   "id": "f03cedb8",
   "metadata": {},
   "outputs": [],
   "source": []
  }
 ],
 "metadata": {
  "kernelspec": {
   "display_name": "Python 3 (ipykernel)",
   "language": "python",
   "name": "python3"
  },
  "language_info": {
   "codemirror_mode": {
    "name": "ipython",
    "version": 3
   },
   "file_extension": ".py",
   "mimetype": "text/x-python",
   "name": "python",
   "nbconvert_exporter": "python",
   "pygments_lexer": "ipython3",
   "version": "3.10.9"
  }
 },
 "nbformat": 4,
 "nbformat_minor": 5
}
